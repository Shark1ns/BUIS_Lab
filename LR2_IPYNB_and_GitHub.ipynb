{
  "nbformat": 4,
  "nbformat_minor": 0,
  "metadata": {
    "colab": {
      "name": "LR2_IPYNB и GitHub.ipynb",
      "provenance": []
    },
    "kernelspec": {
      "name": "python3",
      "display_name": "Python 3"
    },
    "language_info": {
      "name": "python"
    }
  },
  "cells": [
    {
      "cell_type": "markdown",
      "source": [
        "#### Греческий Алфавит\n",
        "| Заглавная | Строчная | Название |\n",
        "|---------|:------------------:|----:|\n",
        "|A|$\\alpha$|альфа|\n",
        "|B|$\\beta$|бета|\n",
        "|$\\Gamma$|$\\gamma$|гамма|\n",
        "|$\\Delta$|$\\delta$|дельта|\n",
        "|E|$\\epsilon$|эпсилон|\n",
        "|Z|$\\zeta$|дзета|\n",
        "|H|$\\eta$|эта|\n",
        "|$\\Theta$|$\\theta$|тета|\n",
        "|I|$\\iota$|йота|\n",
        "|K|$\\kappa$|каппа|\n",
        "|$\\Lambda$|$\\lambda$|лямбда|\n",
        "|M|$\\mu$|мю|\n",
        "|N|$\\nu$|ню|\n",
        "|$\\Xi$|$\\xi$|кси|\n",
        "|O|o|омикрон|\n",
        "|$\\Pi$|$\\pi$|пи|\n",
        "|P|$\\rho$|ро|\n",
        "|$\\Sigma$|$\\sigma$|сигма|\n",
        "|T|$\\tau$|тау|\n",
        "|$\\Upsilon$|$\\upsilon$|ипсилон|\n",
        "|$\\Phi$|$\\phi$|фи|\n",
        "|X|$\\chi$|хи|\n",
        "|$\\Psi$|$\\psi$|пси|\n",
        "|$\\Omega$|$\\omega$|омега|\n",
        "\n",
        "Формула в отдельной строке\n",
        "$$\\displaystyle f(x)=\\frac 1{\\sigma \\sqrt{ 2\\pi }}e^{-\\frac 1 2 \\left (\\frac{ x-\\mu }\\sigma \\right)^2}$$\n",
        "\n",
        "Формула в тексте: $\\displaystyle f(x)=\\frac 1{\\sigma \\sqrt{ 2\\pi }}e^{-\\frac 1 2 \\left (\\frac{ x-\\mu }\\sigma \\right)^2}$\n",
        "\n",
        "#Заголовок первого уровня\n",
        "##Заголовок второго уровня\n",
        "###Заголовок третьего уровня"
      ],
      "metadata": {
        "id": "mzSJ_SpNRlkg"
      }
    }
  ]
}